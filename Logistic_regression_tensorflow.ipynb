{
  "nbformat": 4,
  "nbformat_minor": 0,
  "metadata": {
    "colab": {
      "name": "Logistic regression tensorflow.ipynb",
      "provenance": [],
      "mount_file_id": "16UBdAJu6RAsXFY5BLjINVIsDeDeCfqCZ",
      "authorship_tag": "ABX9TyM0PL7G1veMrkBDYwKy8bVV",
      "include_colab_link": true
    },
    "kernelspec": {
      "name": "python3",
      "display_name": "Python 3"
    },
    "language_info": {
      "name": "python"
    }
  },
  "cells": [
    {
      "cell_type": "markdown",
      "metadata": {
        "id": "view-in-github",
        "colab_type": "text"
      },
      "source": [
        "<a href=\"https://colab.research.google.com/github/gowtham777y/Logistic-regression-tensorflow/blob/main/Logistic_regression_tensorflow.ipynb\" target=\"_parent\"><img src=\"https://colab.research.google.com/assets/colab-badge.svg\" alt=\"Open In Colab\"/></a>"
      ]
    },
    {
      "cell_type": "code",
      "metadata": {
        "id": "3MUFVM3dTlOI"
      },
      "source": [
        "%tensorflow_version 2.x"
      ],
      "execution_count": 1,
      "outputs": []
    },
    {
      "cell_type": "code",
      "metadata": {
        "id": "cVPsckjQTs1C"
      },
      "source": [
        "from __future__ import absolute_import, division, print_function, unicode_literals\n",
        "\n",
        "\n",
        "import tensorflow as tf\n",
        "\n",
        "import pandas as pd"
      ],
      "execution_count": 2,
      "outputs": []
    },
    {
      "cell_type": "code",
      "metadata": {
        "id": "5cr26Vc2TwZ5"
      },
      "source": [
        "CSV_COLUMN_NAMES = ['SepalLength', 'SepalWidth', 'PetalLength', 'PetalWidth', 'Species']\n",
        "SPECIES = ['Setosa', 'Versicolor', 'Virginica']\n",
        "# Lets define some constants to help us later on"
      ],
      "execution_count": 3,
      "outputs": []
    },
    {
      "cell_type": "code",
      "metadata": {
        "colab": {
          "base_uri": "https://localhost:8080/"
        },
        "id": "A10br5VCTzbY",
        "outputId": "1cb4c104-6a6a-4b9e-ea82-af9aba8e7d3d"
      },
      "source": [
        "train_path = tf.keras.utils.get_file(\n",
        "    \"iris_training.csv\", \"https://storage.googleapis.com/download.tensorflow.org/data/iris_training.csv\")\n",
        "test_path = tf.keras.utils.get_file(\n",
        "    \"iris_test.csv\", \"https://storage.googleapis.com/download.tensorflow.org/data/iris_test.csv\")\n",
        "\n",
        "train = pd.read_csv(train_path, names=CSV_COLUMN_NAMES, header=0)\n",
        "test = pd.read_csv(test_path, names=CSV_COLUMN_NAMES, header=0)\n",
        "# Here we use keras (a module inside of TensorFlow) to grab our datasets and read them into a pandas dataframe"
      ],
      "execution_count": 4,
      "outputs": [
        {
          "output_type": "stream",
          "text": [
            "Downloading data from https://storage.googleapis.com/download.tensorflow.org/data/iris_training.csv\n",
            "8192/2194 [================================================================================================================] - 0s 0us/step\n",
            "Downloading data from https://storage.googleapis.com/download.tensorflow.org/data/iris_test.csv\n",
            "8192/573 [============================================================================================================================================================================================================================================================================================================================================================================================================================================] - 0s 0us/step\n"
          ],
          "name": "stdout"
        }
      ]
    },
    {
      "cell_type": "code",
      "metadata": {
        "colab": {
          "base_uri": "https://localhost:8080/",
          "height": 195
        },
        "id": "F5DNQttvT3Zw",
        "outputId": "6c4c679d-9fa3-4c9c-86a0-7fda26336c9b"
      },
      "source": [
        "train.head()"
      ],
      "execution_count": 5,
      "outputs": [
        {
          "output_type": "execute_result",
          "data": {
            "text/html": [
              "<div>\n",
              "<style scoped>\n",
              "    .dataframe tbody tr th:only-of-type {\n",
              "        vertical-align: middle;\n",
              "    }\n",
              "\n",
              "    .dataframe tbody tr th {\n",
              "        vertical-align: top;\n",
              "    }\n",
              "\n",
              "    .dataframe thead th {\n",
              "        text-align: right;\n",
              "    }\n",
              "</style>\n",
              "<table border=\"1\" class=\"dataframe\">\n",
              "  <thead>\n",
              "    <tr style=\"text-align: right;\">\n",
              "      <th></th>\n",
              "      <th>SepalLength</th>\n",
              "      <th>SepalWidth</th>\n",
              "      <th>PetalLength</th>\n",
              "      <th>PetalWidth</th>\n",
              "      <th>Species</th>\n",
              "    </tr>\n",
              "  </thead>\n",
              "  <tbody>\n",
              "    <tr>\n",
              "      <th>0</th>\n",
              "      <td>6.4</td>\n",
              "      <td>2.8</td>\n",
              "      <td>5.6</td>\n",
              "      <td>2.2</td>\n",
              "      <td>2</td>\n",
              "    </tr>\n",
              "    <tr>\n",
              "      <th>1</th>\n",
              "      <td>5.0</td>\n",
              "      <td>2.3</td>\n",
              "      <td>3.3</td>\n",
              "      <td>1.0</td>\n",
              "      <td>1</td>\n",
              "    </tr>\n",
              "    <tr>\n",
              "      <th>2</th>\n",
              "      <td>4.9</td>\n",
              "      <td>2.5</td>\n",
              "      <td>4.5</td>\n",
              "      <td>1.7</td>\n",
              "      <td>2</td>\n",
              "    </tr>\n",
              "    <tr>\n",
              "      <th>3</th>\n",
              "      <td>4.9</td>\n",
              "      <td>3.1</td>\n",
              "      <td>1.5</td>\n",
              "      <td>0.1</td>\n",
              "      <td>0</td>\n",
              "    </tr>\n",
              "    <tr>\n",
              "      <th>4</th>\n",
              "      <td>5.7</td>\n",
              "      <td>3.8</td>\n",
              "      <td>1.7</td>\n",
              "      <td>0.3</td>\n",
              "      <td>0</td>\n",
              "    </tr>\n",
              "  </tbody>\n",
              "</table>\n",
              "</div>"
            ],
            "text/plain": [
              "   SepalLength  SepalWidth  PetalLength  PetalWidth  Species\n",
              "0          6.4         2.8          5.6         2.2        2\n",
              "1          5.0         2.3          3.3         1.0        1\n",
              "2          4.9         2.5          4.5         1.7        2\n",
              "3          4.9         3.1          1.5         0.1        0\n",
              "4          5.7         3.8          1.7         0.3        0"
            ]
          },
          "metadata": {
            "tags": []
          },
          "execution_count": 5
        }
      ]
    },
    {
      "cell_type": "code",
      "metadata": {
        "colab": {
          "base_uri": "https://localhost:8080/",
          "height": 195
        },
        "id": "NCyOiTWcT6ra",
        "outputId": "4e1fd595-753b-4cbe-f1ad-39a96d881218"
      },
      "source": [
        "train_y = train.pop('Species')\n",
        "test_y = test.pop('Species')\n",
        "train.head() # the species column is now gone"
      ],
      "execution_count": 6,
      "outputs": [
        {
          "output_type": "execute_result",
          "data": {
            "text/html": [
              "<div>\n",
              "<style scoped>\n",
              "    .dataframe tbody tr th:only-of-type {\n",
              "        vertical-align: middle;\n",
              "    }\n",
              "\n",
              "    .dataframe tbody tr th {\n",
              "        vertical-align: top;\n",
              "    }\n",
              "\n",
              "    .dataframe thead th {\n",
              "        text-align: right;\n",
              "    }\n",
              "</style>\n",
              "<table border=\"1\" class=\"dataframe\">\n",
              "  <thead>\n",
              "    <tr style=\"text-align: right;\">\n",
              "      <th></th>\n",
              "      <th>SepalLength</th>\n",
              "      <th>SepalWidth</th>\n",
              "      <th>PetalLength</th>\n",
              "      <th>PetalWidth</th>\n",
              "    </tr>\n",
              "  </thead>\n",
              "  <tbody>\n",
              "    <tr>\n",
              "      <th>0</th>\n",
              "      <td>6.4</td>\n",
              "      <td>2.8</td>\n",
              "      <td>5.6</td>\n",
              "      <td>2.2</td>\n",
              "    </tr>\n",
              "    <tr>\n",
              "      <th>1</th>\n",
              "      <td>5.0</td>\n",
              "      <td>2.3</td>\n",
              "      <td>3.3</td>\n",
              "      <td>1.0</td>\n",
              "    </tr>\n",
              "    <tr>\n",
              "      <th>2</th>\n",
              "      <td>4.9</td>\n",
              "      <td>2.5</td>\n",
              "      <td>4.5</td>\n",
              "      <td>1.7</td>\n",
              "    </tr>\n",
              "    <tr>\n",
              "      <th>3</th>\n",
              "      <td>4.9</td>\n",
              "      <td>3.1</td>\n",
              "      <td>1.5</td>\n",
              "      <td>0.1</td>\n",
              "    </tr>\n",
              "    <tr>\n",
              "      <th>4</th>\n",
              "      <td>5.7</td>\n",
              "      <td>3.8</td>\n",
              "      <td>1.7</td>\n",
              "      <td>0.3</td>\n",
              "    </tr>\n",
              "  </tbody>\n",
              "</table>\n",
              "</div>"
            ],
            "text/plain": [
              "   SepalLength  SepalWidth  PetalLength  PetalWidth\n",
              "0          6.4         2.8          5.6         2.2\n",
              "1          5.0         2.3          3.3         1.0\n",
              "2          4.9         2.5          4.5         1.7\n",
              "3          4.9         3.1          1.5         0.1\n",
              "4          5.7         3.8          1.7         0.3"
            ]
          },
          "metadata": {
            "tags": []
          },
          "execution_count": 6
        }
      ]
    },
    {
      "cell_type": "code",
      "metadata": {
        "colab": {
          "base_uri": "https://localhost:8080/"
        },
        "id": "jZuhd6RdT816",
        "outputId": "e63d095d-ad8c-4902-9688-cb18f38275a8"
      },
      "source": [
        "train.shape  # we have 120 entires with 4 features"
      ],
      "execution_count": 7,
      "outputs": [
        {
          "output_type": "execute_result",
          "data": {
            "text/plain": [
              "(120, 4)"
            ]
          },
          "metadata": {
            "tags": []
          },
          "execution_count": 7
        }
      ]
    },
    {
      "cell_type": "code",
      "metadata": {
        "id": "ajpzIpD7T_Qw"
      },
      "source": [
        "def input_fn(features, labels, training=True, batch_size=256):\n",
        "    # Convert the inputs to a Dataset.\n",
        "    dataset = tf.data.Dataset.from_tensor_slices((dict(features), labels))\n",
        "\n",
        "    # Shuffle and repeat if you are in training mode.\n",
        "    if training:\n",
        "        dataset = dataset.shuffle(1000).repeat()\n",
        "    \n",
        "    return dataset.batch(batch_size)"
      ],
      "execution_count": 8,
      "outputs": []
    },
    {
      "cell_type": "code",
      "metadata": {
        "colab": {
          "base_uri": "https://localhost:8080/"
        },
        "id": "jNIPYkqRUB_-",
        "outputId": "644ab22f-28af-4b43-834b-838a32c56b2b"
      },
      "source": [
        "# Feature columns describe how to use the input.\n",
        "my_feature_columns = []\n",
        "for key in train.keys():\n",
        "    my_feature_columns.append(tf.feature_column.numeric_column(key=key))\n",
        "print(my_feature_columns)"
      ],
      "execution_count": 9,
      "outputs": [
        {
          "output_type": "stream",
          "text": [
            "[NumericColumn(key='SepalLength', shape=(1,), default_value=None, dtype=tf.float32, normalizer_fn=None), NumericColumn(key='SepalWidth', shape=(1,), default_value=None, dtype=tf.float32, normalizer_fn=None), NumericColumn(key='PetalLength', shape=(1,), default_value=None, dtype=tf.float32, normalizer_fn=None), NumericColumn(key='PetalWidth', shape=(1,), default_value=None, dtype=tf.float32, normalizer_fn=None)]\n"
          ],
          "name": "stdout"
        }
      ]
    },
    {
      "cell_type": "code",
      "metadata": {
        "colab": {
          "base_uri": "https://localhost:8080/"
        },
        "id": "RFPEMDf5UE2i",
        "outputId": "b686efae-5f79-4a3d-efae-673cc74fedad"
      },
      "source": [
        "# Build a DNN with 2 hidden layers with 30 and 10 hidden nodes each.\n",
        "classifier = tf.estimator.DNNClassifier(\n",
        "    feature_columns=my_feature_columns,\n",
        "    # Two hidden layers of 30 and 10 nodes respectively.\n",
        "    hidden_units=[30, 10],\n",
        "    # The model must choose between 3 classes.\n",
        "    n_classes=3)"
      ],
      "execution_count": 10,
      "outputs": [
        {
          "output_type": "stream",
          "text": [
            "INFO:tensorflow:Using default config.\n",
            "WARNING:tensorflow:Using temporary folder as model directory: /tmp/tmp3w1e3cp2\n",
            "INFO:tensorflow:Using config: {'_model_dir': '/tmp/tmp3w1e3cp2', '_tf_random_seed': None, '_save_summary_steps': 100, '_save_checkpoints_steps': None, '_save_checkpoints_secs': 600, '_session_config': allow_soft_placement: true\n",
            "graph_options {\n",
            "  rewrite_options {\n",
            "    meta_optimizer_iterations: ONE\n",
            "  }\n",
            "}\n",
            ", '_keep_checkpoint_max': 5, '_keep_checkpoint_every_n_hours': 10000, '_log_step_count_steps': 100, '_train_distribute': None, '_device_fn': None, '_protocol': None, '_eval_distribute': None, '_experimental_distribute': None, '_experimental_max_worker_delay_secs': None, '_session_creation_timeout_secs': 7200, '_checkpoint_save_graph_def': True, '_service': None, '_cluster_spec': ClusterSpec({}), '_task_type': 'worker', '_task_id': 0, '_global_id_in_cluster': 0, '_master': '', '_evaluation_master': '', '_is_chief': True, '_num_ps_replicas': 0, '_num_worker_replicas': 1}\n"
          ],
          "name": "stdout"
        }
      ]
    },
    {
      "cell_type": "code",
      "metadata": {
        "colab": {
          "base_uri": "https://localhost:8080/"
        },
        "id": "9e_9MTekUIcP",
        "outputId": "6c08a1c0-3929-4c2b-8e39-593895fc9928"
      },
      "source": [
        "classifier.train(\n",
        "    input_fn=lambda: input_fn(train, train_y, training=True),\n",
        "    steps=5000)\n",
        "# We include a lambda to avoid creating an inner function previously"
      ],
      "execution_count": 11,
      "outputs": [
        {
          "output_type": "stream",
          "text": [
            "WARNING:tensorflow:From /usr/local/lib/python3.7/dist-packages/tensorflow/python/training/training_util.py:236: Variable.initialized_value (from tensorflow.python.ops.variables) is deprecated and will be removed in a future version.\n",
            "Instructions for updating:\n",
            "Use Variable.read_value. Variables in 2.X are initialized automatically both in eager and graph (inside tf.defun) contexts.\n",
            "INFO:tensorflow:Calling model_fn.\n",
            "WARNING:tensorflow:From /usr/local/lib/python3.7/dist-packages/tensorflow/python/keras/optimizer_v2/adagrad.py:83: calling Constant.__init__ (from tensorflow.python.ops.init_ops) with dtype is deprecated and will be removed in a future version.\n",
            "Instructions for updating:\n",
            "Call initializer instance with the dtype argument instead of passing it to the constructor\n",
            "INFO:tensorflow:Done calling model_fn.\n",
            "INFO:tensorflow:Create CheckpointSaverHook.\n",
            "INFO:tensorflow:Graph was finalized.\n",
            "INFO:tensorflow:Running local_init_op.\n",
            "INFO:tensorflow:Done running local_init_op.\n",
            "INFO:tensorflow:Calling checkpoint listeners before saving checkpoint 0...\n",
            "INFO:tensorflow:Saving checkpoints for 0 into /tmp/tmp3w1e3cp2/model.ckpt.\n",
            "INFO:tensorflow:Calling checkpoint listeners after saving checkpoint 0...\n",
            "INFO:tensorflow:loss = 1.1656613, step = 0\n",
            "INFO:tensorflow:global_step/sec: 414.555\n",
            "INFO:tensorflow:loss = 1.0818393, step = 100 (0.244 sec)\n",
            "INFO:tensorflow:global_step/sec: 543.422\n",
            "INFO:tensorflow:loss = 1.0492955, step = 200 (0.184 sec)\n",
            "INFO:tensorflow:global_step/sec: 549.782\n",
            "INFO:tensorflow:loss = 1.0176971, step = 300 (0.184 sec)\n",
            "INFO:tensorflow:global_step/sec: 498.642\n",
            "INFO:tensorflow:loss = 0.9862915, step = 400 (0.201 sec)\n",
            "INFO:tensorflow:global_step/sec: 602.92\n",
            "INFO:tensorflow:loss = 0.95049405, step = 500 (0.163 sec)\n",
            "INFO:tensorflow:global_step/sec: 519.559\n",
            "INFO:tensorflow:loss = 0.9239088, step = 600 (0.195 sec)\n",
            "INFO:tensorflow:global_step/sec: 521.567\n",
            "INFO:tensorflow:loss = 0.9048768, step = 700 (0.189 sec)\n",
            "INFO:tensorflow:global_step/sec: 604.519\n",
            "INFO:tensorflow:loss = 0.8681748, step = 800 (0.171 sec)\n",
            "INFO:tensorflow:global_step/sec: 538.49\n",
            "INFO:tensorflow:loss = 0.84713745, step = 900 (0.183 sec)\n",
            "INFO:tensorflow:global_step/sec: 594.862\n",
            "INFO:tensorflow:loss = 0.8318426, step = 1000 (0.166 sec)\n",
            "INFO:tensorflow:global_step/sec: 571.313\n",
            "INFO:tensorflow:loss = 0.7966105, step = 1100 (0.175 sec)\n",
            "INFO:tensorflow:global_step/sec: 604.357\n",
            "INFO:tensorflow:loss = 0.7759286, step = 1200 (0.165 sec)\n",
            "INFO:tensorflow:global_step/sec: 526.108\n",
            "INFO:tensorflow:loss = 0.75872916, step = 1300 (0.194 sec)\n",
            "INFO:tensorflow:global_step/sec: 487.998\n",
            "INFO:tensorflow:loss = 0.73067635, step = 1400 (0.205 sec)\n",
            "INFO:tensorflow:global_step/sec: 545.135\n",
            "INFO:tensorflow:loss = 0.7177702, step = 1500 (0.186 sec)\n",
            "INFO:tensorflow:global_step/sec: 568.466\n",
            "INFO:tensorflow:loss = 0.69220644, step = 1600 (0.174 sec)\n",
            "INFO:tensorflow:global_step/sec: 538.767\n",
            "INFO:tensorflow:loss = 0.69519347, step = 1700 (0.185 sec)\n",
            "INFO:tensorflow:global_step/sec: 573.561\n",
            "INFO:tensorflow:loss = 0.6761135, step = 1800 (0.173 sec)\n",
            "INFO:tensorflow:global_step/sec: 466.852\n",
            "INFO:tensorflow:loss = 0.67306364, step = 1900 (0.216 sec)\n",
            "INFO:tensorflow:global_step/sec: 535.403\n",
            "INFO:tensorflow:loss = 0.6487215, step = 2000 (0.184 sec)\n",
            "INFO:tensorflow:global_step/sec: 540.752\n",
            "INFO:tensorflow:loss = 0.6276922, step = 2100 (0.185 sec)\n",
            "INFO:tensorflow:global_step/sec: 523.009\n",
            "INFO:tensorflow:loss = 0.61593825, step = 2200 (0.194 sec)\n",
            "INFO:tensorflow:global_step/sec: 482.065\n",
            "INFO:tensorflow:loss = 0.6326917, step = 2300 (0.208 sec)\n",
            "INFO:tensorflow:global_step/sec: 491.773\n",
            "INFO:tensorflow:loss = 0.60290325, step = 2400 (0.202 sec)\n",
            "INFO:tensorflow:global_step/sec: 555.259\n",
            "INFO:tensorflow:loss = 0.58080757, step = 2500 (0.179 sec)\n",
            "INFO:tensorflow:global_step/sec: 595.515\n",
            "INFO:tensorflow:loss = 0.5770118, step = 2600 (0.168 sec)\n",
            "INFO:tensorflow:global_step/sec: 540.257\n",
            "INFO:tensorflow:loss = 0.5645735, step = 2700 (0.189 sec)\n",
            "INFO:tensorflow:global_step/sec: 572.785\n",
            "INFO:tensorflow:loss = 0.5627086, step = 2800 (0.174 sec)\n",
            "INFO:tensorflow:global_step/sec: 507.373\n",
            "INFO:tensorflow:loss = 0.56875014, step = 2900 (0.197 sec)\n",
            "INFO:tensorflow:global_step/sec: 534.997\n",
            "INFO:tensorflow:loss = 0.5474646, step = 3000 (0.186 sec)\n",
            "INFO:tensorflow:global_step/sec: 551.295\n",
            "INFO:tensorflow:loss = 0.54145694, step = 3100 (0.184 sec)\n",
            "INFO:tensorflow:global_step/sec: 591.801\n",
            "INFO:tensorflow:loss = 0.5159243, step = 3200 (0.167 sec)\n",
            "INFO:tensorflow:global_step/sec: 565.261\n",
            "INFO:tensorflow:loss = 0.5239163, step = 3300 (0.174 sec)\n",
            "INFO:tensorflow:global_step/sec: 515.643\n",
            "INFO:tensorflow:loss = 0.51883245, step = 3400 (0.194 sec)\n",
            "INFO:tensorflow:global_step/sec: 554.901\n",
            "INFO:tensorflow:loss = 0.52542317, step = 3500 (0.184 sec)\n",
            "INFO:tensorflow:global_step/sec: 539.427\n",
            "INFO:tensorflow:loss = 0.49552113, step = 3600 (0.186 sec)\n",
            "INFO:tensorflow:global_step/sec: 532.869\n",
            "INFO:tensorflow:loss = 0.49825308, step = 3700 (0.184 sec)\n",
            "INFO:tensorflow:global_step/sec: 566.495\n",
            "INFO:tensorflow:loss = 0.47981328, step = 3800 (0.179 sec)\n",
            "INFO:tensorflow:global_step/sec: 559.741\n",
            "INFO:tensorflow:loss = 0.47522223, step = 3900 (0.178 sec)\n",
            "INFO:tensorflow:global_step/sec: 525.045\n",
            "INFO:tensorflow:loss = 0.45599246, step = 4000 (0.192 sec)\n",
            "INFO:tensorflow:global_step/sec: 580.33\n",
            "INFO:tensorflow:loss = 0.47162586, step = 4100 (0.169 sec)\n",
            "INFO:tensorflow:global_step/sec: 577.666\n",
            "INFO:tensorflow:loss = 0.46097326, step = 4200 (0.176 sec)\n",
            "INFO:tensorflow:global_step/sec: 583.276\n",
            "INFO:tensorflow:loss = 0.45161363, step = 4300 (0.171 sec)\n",
            "INFO:tensorflow:global_step/sec: 518.138\n",
            "INFO:tensorflow:loss = 0.4508379, step = 4400 (0.194 sec)\n",
            "INFO:tensorflow:global_step/sec: 519.301\n",
            "INFO:tensorflow:loss = 0.4444402, step = 4500 (0.194 sec)\n",
            "INFO:tensorflow:global_step/sec: 564.341\n",
            "INFO:tensorflow:loss = 0.44111663, step = 4600 (0.174 sec)\n",
            "INFO:tensorflow:global_step/sec: 530.001\n",
            "INFO:tensorflow:loss = 0.4310897, step = 4700 (0.190 sec)\n",
            "INFO:tensorflow:global_step/sec: 518.005\n",
            "INFO:tensorflow:loss = 0.43651092, step = 4800 (0.193 sec)\n",
            "INFO:tensorflow:global_step/sec: 540.453\n",
            "INFO:tensorflow:loss = 0.43956935, step = 4900 (0.182 sec)\n",
            "INFO:tensorflow:Calling checkpoint listeners before saving checkpoint 5000...\n",
            "INFO:tensorflow:Saving checkpoints for 5000 into /tmp/tmp3w1e3cp2/model.ckpt.\n",
            "INFO:tensorflow:Calling checkpoint listeners after saving checkpoint 5000...\n",
            "INFO:tensorflow:Loss for final step: 0.433545.\n"
          ],
          "name": "stdout"
        },
        {
          "output_type": "execute_result",
          "data": {
            "text/plain": [
              "<tensorflow_estimator.python.estimator.canned.dnn.DNNClassifierV2 at 0x7f441ea3d5d0>"
            ]
          },
          "metadata": {
            "tags": []
          },
          "execution_count": 11
        }
      ]
    },
    {
      "cell_type": "code",
      "metadata": {
        "colab": {
          "base_uri": "https://localhost:8080/"
        },
        "id": "cgHTYJ0VULcX",
        "outputId": "e2deb678-5912-4012-e966-89d1a83ff33f"
      },
      "source": [
        "eval_result = classifier.evaluate(\n",
        "    input_fn=lambda: input_fn(test, test_y, training=False))\n",
        "\n",
        "print('\\nTest set accuracy: {accuracy:0.3f}\\n'.format(**eval_result))"
      ],
      "execution_count": 12,
      "outputs": [
        {
          "output_type": "stream",
          "text": [
            "INFO:tensorflow:Calling model_fn.\n",
            "INFO:tensorflow:Done calling model_fn.\n",
            "INFO:tensorflow:Starting evaluation at 2021-04-23T15:20:04Z\n",
            "INFO:tensorflow:Graph was finalized.\n",
            "INFO:tensorflow:Restoring parameters from /tmp/tmp3w1e3cp2/model.ckpt-5000\n",
            "INFO:tensorflow:Running local_init_op.\n",
            "INFO:tensorflow:Done running local_init_op.\n",
            "INFO:tensorflow:Inference Time : 0.31570s\n",
            "INFO:tensorflow:Finished evaluation at 2021-04-23-15:20:04\n",
            "INFO:tensorflow:Saving dict for global step 5000: accuracy = 0.8333333, average_loss = 0.50240165, global_step = 5000, loss = 0.50240165\n",
            "INFO:tensorflow:Saving 'checkpoint_path' summary for global step 5000: /tmp/tmp3w1e3cp2/model.ckpt-5000\n",
            "\n",
            "Test set accuracy: 0.833\n",
            "\n"
          ],
          "name": "stdout"
        }
      ]
    },
    {
      "cell_type": "code",
      "metadata": {
        "colab": {
          "base_uri": "https://localhost:8080/"
        },
        "id": "xooSO00SUQmY",
        "outputId": "b2058ec6-f19f-4a99-d2f1-b22a1a560e48"
      },
      "source": [
        "#This code takes the input from the user and predicts\n",
        "def input_fn(features, batch_size=256):\n",
        "    # Convert the inputs to a Dataset without labels.\n",
        "    return tf.data.Dataset.from_tensor_slices(dict(features)).batch(batch_size)\n",
        "\n",
        "features = ['SepalLength', 'SepalWidth', 'PetalLength', 'PetalWidth']\n",
        "predict = {}\n",
        "\n",
        "print(\"Please type numeric values as prompted.\")\n",
        "for feature in features:\n",
        "  valid = True\n",
        "  while valid: \n",
        "    val = input(feature + \": \")\n",
        "    if not val.isdigit(): valid = False\n",
        "\n",
        "  predict[feature] = [float(val)]\n",
        "\n",
        "predictions = classifier.predict(input_fn=lambda: input_fn(predict))\n",
        "for pred_dict in predictions:\n",
        "    class_id = pred_dict['class_ids'][0]\n",
        "    probability = pred_dict['probabilities'][class_id]\n",
        "\n",
        "    print('Prediction is \"{}\" ({:.1f}%)'.format(\n",
        "        SPECIES[class_id], 100 * probability))\n"
      ],
      "execution_count": 14,
      "outputs": [
        {
          "output_type": "stream",
          "text": [
            "Please type numeric values as prompted.\n",
            "SepalLength: 5.1\n",
            "SepalWidth: 3.3\n",
            "PetalLength: 1.7\n",
            "PetalWidth: 0.5\n",
            "INFO:tensorflow:Calling model_fn.\n",
            "INFO:tensorflow:Done calling model_fn.\n",
            "INFO:tensorflow:Graph was finalized.\n",
            "INFO:tensorflow:Restoring parameters from /tmp/tmp3w1e3cp2/model.ckpt-5000\n",
            "INFO:tensorflow:Running local_init_op.\n",
            "INFO:tensorflow:Done running local_init_op.\n",
            "Prediction is \"Setosa\" (83.8%)\n"
          ],
          "name": "stdout"
        }
      ]
    },
    {
      "cell_type": "code",
      "metadata": {
        "id": "dI1c9obwUaNw"
      },
      "source": [
        ""
      ],
      "execution_count": null,
      "outputs": []
    }
  ]
}